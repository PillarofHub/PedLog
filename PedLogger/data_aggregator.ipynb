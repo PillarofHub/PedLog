{
 "cells": [
  {
   "cell_type": "code",
   "execution_count": 1,
   "id": "711eee77-e329-4b3c-9ede-e3c4261bfa53",
   "metadata": {},
   "outputs": [
    {
     "name": "stdout",
     "output_type": "stream",
     "text": [
      "Saved: ./avg_100ms_kevin_S22ultra_pedLog_1754296294156.csv\n"
     ]
    }
   ],
   "source": [
    "import pandas as pd\n",
    "import numpy as np\n",
    "import os\n",
    "import glob\n",
    "\n",
    "# 처리할 CSV 파일들이 위치한 폴더 지정\n",
    "input_folder = './'  # 현재 디렉토리 기준 (필요시 수정)\n",
    "csv_files = glob.glob(os.path.join(input_folder, '*.csv'))\n",
    "\n",
    "for file_path in csv_files:\n",
    "    # 원래 파일 이름 추출\n",
    "    base_name = os.path.basename(file_path)\n",
    "    name_without_ext = os.path.splitext(base_name)[0]\n",
    "\n",
    "    # CSV 로드\n",
    "    df = pd.read_csv(file_path)\n",
    "\n",
    "    # timestamp offset 계산\n",
    "    df['timestamp_offset'] = df['timestamp'] - df['timestamp'].min()\n",
    "\n",
    "    # 100ms 단위 bin 생성\n",
    "    df['time_bin'] = (df['timestamp_offset'] // 100).astype(int)\n",
    "\n",
    "    # 수치형 컬럼과 범주형 컬럼 구분\n",
    "    numeric_cols = df.select_dtypes(include=[np.number]).columns.difference(['time_bin'])\n",
    "    categorical_col = 'direction'\n",
    "\n",
    "    # 집계 함수 정의\n",
    "    agg_funcs = {col: 'mean' for col in numeric_cols}\n",
    "    agg_funcs[categorical_col] = lambda x: x.mode().iloc[0] if not x.mode().empty else None\n",
    "\n",
    "    # 그룹화 및 집계\n",
    "    aggregated_df = df.groupby('time_bin').agg(agg_funcs).reset_index(drop=True)\n",
    "\n",
    "    # 출력 파일 경로 생성\n",
    "    output_path = os.path.join(input_folder, f\"avg_100ms_{name_without_ext}.csv\")\n",
    "\n",
    "    # 저장\n",
    "    aggregated_df.to_csv(output_path, index=False)\n",
    "    print(f\"Saved: {output_path}\")\n"
   ]
  },
  {
   "cell_type": "code",
   "execution_count": null,
   "id": "33830110-7ab2-4ada-9e93-d2901231e87f",
   "metadata": {},
   "outputs": [],
   "source": []
  }
 ],
 "metadata": {
  "kernelspec": {
   "display_name": "Python 3 (ipykernel)",
   "language": "python",
   "name": "python3"
  },
  "language_info": {
   "codemirror_mode": {
    "name": "ipython",
    "version": 3
   },
   "file_extension": ".py",
   "mimetype": "text/x-python",
   "name": "python",
   "nbconvert_exporter": "python",
   "pygments_lexer": "ipython3",
   "version": "3.12.9"
  }
 },
 "nbformat": 4,
 "nbformat_minor": 5
}
